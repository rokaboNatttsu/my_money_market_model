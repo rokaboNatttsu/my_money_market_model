{
 "cells": [
  {
   "cell_type": "markdown",
   "metadata": {},
   "source": [
    "ポートフォリオ配分、目標値をGodelyの例の式の形で計算する。パラメータに対して進化的なアルゴリズムを使う。\n",
    "\n",
    "各資産の評価を行い、売却量・売却価格・買取量・買取価格のオファーを出す\n",
    "\n",
    "オファー同士でマッチング\n",
    "\n",
    "\n",
    "ポートフォリオ配分戦略には、模倣の要素を入れる。\n",
    "\n",
    "家計の労働所得を対数正規分布になるように分布させ、純資産が一定値を超えたら金融市場に参加、純資産が一定値を下回ったら保有する預金以外の金融資産を売って金融市場から撤退"
   ]
  },
  {
   "cell_type": "code",
   "execution_count": 1,
   "metadata": {},
   "outputs": [],
   "source": [
    "using StatsPlots"
   ]
  },
  {
   "cell_type": "markdown",
   "metadata": {},
   "source": [
    "Julia本を手元に\n",
    "\n",
    "型付けは練習のために過剰なくらいで。\n",
    "\n",
    "多重ディスパッチ、ブロードキャスティング、で読みやすさと行動方程式の書き換えやすさを両立したい"
   ]
  },
  {
   "cell_type": "code",
   "execution_count": 2,
   "metadata": {},
   "outputs": [],
   "source": [
    "abstract type Agent end\n",
    "\n",
    "mutable struct HouseHold <: Agent\n",
    "    M::Float64      #   預金\n",
    "    L::Float64      #   借入\n",
    "    peE::Vector{Float64}    #   株式保有総額\n",
    "    E::Vector{Float64}      #   株式保有量\n",
    "    GB::Float64             #   国債\n",
    "    CB::Vector{Float64}     #   社債\n",
    "    λ_arr::Matrix{Float64}  #   ポートフォリオ目標を決めるための式のパラメータ\n",
    "end\n",
    "mutable struct Bank <: Agent\n",
    "    H::Float64      #   HPM\n",
    "    M::Float64      #   預金\n",
    "    L::Float64      #   借入\n",
    "    peE::Vector{Float64}    #   株式保有総額\n",
    "    E::Vector{Float64}      #   株式保有量\n",
    "    GB::Float64             #   国債\n",
    "    CB::Vector{Float64}     #   社債\n",
    "    λ_arr::Matrix{Float64}  #   ポートフォリオ目標を決めるための式のパラメータ\n",
    "end\n",
    "mutable struct Firm <: Agent\n",
    "    M::Float64      #   預金\n",
    "    L::Float64      #   借入\n",
    "    E::Float64      #   株式発行量\n",
    "    SC::Float64     #   資本金\n",
    "    CB::Float64     #   社債\n",
    "end\n",
    "mutable struct IntegratedGovernment <: Agent\n",
    "    H::Float64      #   HPM\n",
    "    GB::Float64     #   国債\n",
    "end\n"
   ]
  },
  {
   "cell_type": "code",
   "execution_count": null,
   "metadata": {},
   "outputs": [],
   "source": [
    "function change_λ_set(λ_arr)   #   オレンジのポートフォリオ方程式から、単項式で書かれている要素を外生的にランダムに変化させ、多項式で書かれている要素をその値を使って計算しなおす\n",
    "    if rand() < 0.1\n",
    "        I, J = size(λ_arr)\n",
    "        pi, pj, Δλ = rand(1:I), rand(1:J), 0.01*randn()\n",
    "        while true\n",
    "            if pi == 1 and pj == 1\n",
    "                pi, pj = rand(1:I), rand(1:J)\n",
    "            elseif pi + 1 == pj\n",
    "                pi, pj = rand(1:I), rand(1:J)\n",
    "            elseif pi == 1 and pj == J\n",
    "                pi, pj = rand(1:I), rand(1:J)\n",
    "            else\n",
    "                break\n",
    "            end\n",
    "        end\n",
    "        if pj == 1\n",
    "            if 0 <= λ_arr[pi,pj] + Δλ <= 1 && 0 <= λ_arr[1,pj] - Δλ <= 1\n",
    "                λ_arr[pi,pj] += Δλ\n",
    "                λ_arr[1,pj] = 1 - sum(λ_arr[2:end,pj])\n",
    "            end\n",
    "        elseif pj == L\n",
    "            λ_arr[pi,pj] += Δλ\n",
    "            λ_arr[1,pj] = - sum(λ_arr[2:end,pj])\n",
    "        else\n",
    "            if λ_arr[pi,pj] + Δλ <= 0\n",
    "                λ_arr[pi,pj] += Δλ\n",
    "                λ_arr[pj,pi] += Δλ\n",
    "                λ_arr[pi,pi] = -sum(λ_arr[1:end,pi]) + λ_arr[pi,pi]\n",
    "                λ_arr[pj,pj] = -sum(λ_arr[1:end,pj]) + λ_arr[pj,pj]\n",
    "            end\n",
    "        end\n",
    "    end\n",
    "end"
   ]
  },
  {
   "cell_type": "code",
   "execution_count": null,
   "metadata": {},
   "outputs": [],
   "source": [
    "function generate_init_λ_arr_lst(Nh)\n",
    "    init_λ_arr_lst = [zeros(4,6) for _ = 1:Nh]\n",
    "    for λ_arr in init_λ_arr_lst\n",
    "        λ_arr[1,1] = 1.0\n",
    "    end\n",
    "    for t = 1:100\n",
    "        for λ_arr in init_λ_arr_lst\n",
    "            change_λ_set(λ_arr)\n",
    "        end\n",
    "    end\n",
    "    return init_λ_arr_lst  \n",
    "end"
   ]
  },
  {
   "cell_type": "code",
   "execution_count": null,
   "metadata": {},
   "outputs": [],
   "source": [
    "#   各種エージェントの初期値を定義\n",
    "Nh, Nb, Nf, Nig = 1000, 5, 10, 1\n",
    "\n",
    "#   家計群の初期値\n",
    "init_λ_arr_lst = generate_init_λ_arr_lst(Nh)\n",
    "households = [HouseHold(\n",
    "    100.0, 0.0, zeros(Nf), zeros(Nf), 1.0, zeros(Nf), init_λ_arr_lst[i],\n",
    ")for i = 1:Nh]"
   ]
  },
  {
   "cell_type": "code",
   "execution_count": 6,
   "metadata": {},
   "outputs": [
    {
     "data": {
      "text/plain": [
       "Matrix{Float64}\u001b[90m (alias for \u001b[39m\u001b[90mArray{Float64, 2}\u001b[39m\u001b[90m)\u001b[39m"
      ]
     },
     "execution_count": 6,
     "metadata": {},
     "output_type": "execute_result"
    }
   ],
   "source": [
    "#   金融資本収益率が高いλセットを高確率で、金融資本収益率が低いλセットを低確率で、マネする関数\n",
    "function imitate_λ_set(households::HouseHold)"
   ]
  },
  {
   "cell_type": "code",
   "execution_count": null,
   "metadata": {},
   "outputs": [],
   "source": []
  },
  {
   "cell_type": "code",
   "execution_count": 11,
   "metadata": {},
   "outputs": [
    {
     "data": {
      "text/plain": [
       "Set{Symbol} with 3 elements:\n",
       "  :y\n",
       "  :z\n",
       "  :x"
      ]
     },
     "execution_count": 11,
     "metadata": {},
     "output_type": "execute_result"
    }
   ],
   "source": [
    "s = Set{Symbol}([:x, :y, :z])"
   ]
  },
  {
   "cell_type": "code",
   "execution_count": 14,
   "metadata": {},
   "outputs": [
    {
     "data": {
      "text/plain": [
       "Dict{Symbol, Float64} with 3 entries:\n",
       "  :a => 1.0\n",
       "  :b => 2.0\n",
       "  :c => 3.0"
      ]
     },
     "execution_count": 14,
     "metadata": {},
     "output_type": "execute_result"
    }
   ],
   "source": [
    "dic = Dict{Symbol, Float64}(\n",
    "    :a => 1.0,\n",
    "    :b => 2.0,\n",
    "    :c => 3.0,\n",
    "    :d => 4.0,\n",
    ")"
   ]
  },
  {
   "cell_type": "code",
   "execution_count": 25,
   "metadata": {},
   "outputs": [
    {
     "data": {
      "text/plain": [
       "Set{Expr} with 3 elements:\n",
       "  :(z - (b * x + c * y) = begin…\n",
       "  :(z - d = begin…\n",
       "  :(x - a * y = begin…"
      ]
     },
     "execution_count": 25,
     "metadata": {},
     "output_type": "execute_result"
    }
   ],
   "source": [
    "ieqs = Set{Expr}([\n",
    "    :(x - a*y),\n",
    "    :(z - (b*x + c*y)),\n",
    "    :(z - d),\n",
    "])"
   ]
  },
  {
   "cell_type": "code",
   "execution_count": null,
   "metadata": {},
   "outputs": [],
   "source": []
  },
  {
   "cell_type": "code",
   "execution_count": null,
   "metadata": {},
   "outputs": [],
   "source": []
  }
 ],
 "metadata": {
  "kernelspec": {
   "display_name": "Julia 1.9.2",
   "language": "julia",
   "name": "julia-1.9"
  },
  "language_info": {
   "file_extension": ".jl",
   "mimetype": "application/julia",
   "name": "julia",
   "version": "1.9.2"
  }
 },
 "nbformat": 4,
 "nbformat_minor": 2
}
